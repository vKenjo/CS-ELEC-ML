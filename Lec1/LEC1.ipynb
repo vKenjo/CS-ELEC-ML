{
 "cells": [
  {
   "cell_type": "markdown",
   "metadata": {},
   "source": [
    "# LECTURE 1 \n",
    "\n",
    "What is AI?\n",
    "- AI is the study and creation of machines that perform tasks normally associated with intelligence.\n",
    "\n"
   ]
  }
 ],
 "metadata": {
  "language_info": {
   "name": "python"
  }
 },
 "nbformat": 4,
 "nbformat_minor": 2
}
